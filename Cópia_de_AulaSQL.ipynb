{
  "nbformat": 4,
  "nbformat_minor": 0,
  "metadata": {
    "colab": {
      "name": "Cópia de AulaSQL.ipynb",
      "provenance": [],
      "include_colab_link": true
    },
    "kernelspec": {
      "name": "python3",
      "display_name": "Python 3"
    },
    "language_info": {
      "name": "python"
    }
  },
  "cells": [
    {
      "cell_type": "markdown",
      "metadata": {
        "id": "view-in-github",
        "colab_type": "text"
      },
      "source": [
        "<a href=\"https://colab.research.google.com/github/Luanasousa1505/HTML/blob/main/C%C3%B3pia_de_AulaSQL.ipynb\" target=\"_parent\"><img src=\"https://colab.research.google.com/assets/colab-badge.svg\" alt=\"Open In Colab\"/></a>"
      ]
    },
    {
      "cell_type": "markdown",
      "source": [
        "Criando um Banco e uma Tabela"
      ],
      "metadata": {
        "id": "oi8gql7-78Cs"
      }
    },
    {
      "cell_type": "code",
      "execution_count": null,
      "metadata": {
        "colab": {
          "base_uri": "https://localhost:8080/"
        },
        "id": "siw0lfQN6_Uc",
        "outputId": "3b901638-4040-4af8-d548-03b9f1ff6eb1"
      },
      "outputs": [
        {
          "output_type": "stream",
          "name": "stdout",
          "text": [
            "Tabela criada com sucesso.\n"
          ]
        }
      ],
      "source": [
        "# 02_create_schema.py\n",
        "import sqlite3\n",
        "# conectando...\n",
        "\n",
        "conn = sqlite3.connect('clientes.db')\n",
        "# definindo um cursor\n",
        "cursor = conn.cursor()\n",
        "\n",
        "# criando a tabela (schema)\n",
        "cursor.execute(\"\"\"\n",
        "CREATE TABLE  if not exists clientes (\n",
        "        id INTEGER NOT NULL PRIMARY KEY AUTOINCREMENT,\n",
        "        nome TEXT NOT NULL,\n",
        "        idade INTEGER,\n",
        "        cpf     VARCHAR(11) NOT NULL,\n",
        "        email TEXT NOT NULL,\n",
        "        fone TEXT,\n",
        "        cidade TEXT,\n",
        "        uf VARCHAR(2) NOT NULL,\n",
        "        criado_em DATE NOT NULL\n",
        ");\n",
        "\"\"\")\n",
        "print('Tabela criada com sucesso.')\n",
        "# desconectando...\n",
        "conn.close()"
      ]
    },
    {
      "cell_type": "markdown",
      "source": [
        "Agora vamos fazer o CRUD. Começando com a letra **C** **Create** - Inserindo um registro com comando SQL\n",
        "A única novidade aqui é o método commit(). É ele que grava de fato as alterações na tabela. Lembrando que uma tabela é alterada com as instruções SQL ``INSERT, UPDATE`` e ``DELETE``."
      ],
      "metadata": {
        "id": "qoYSR4ka8cou"
      }
    },
    {
      "cell_type": "code",
      "source": [
        "# 03_create_data_sql.py\n",
        "import sqlite3\n",
        "\n",
        "conn = sqlite3.connect('clientes.db')\n",
        "cursor = conn.cursor()\n",
        "\n",
        "# inserindo dados na tabela\n",
        "cursor.execute(\"\"\"\n",
        "INSERT INTO clientes (nome, idade, cpf, email, fone, cidade, uf, criado_em)\n",
        "VALUES ('Regis', 35, '00000000000', 'regis@email.com', '11-98765-4321', 'Sao Paulo', 'SP', '2014-06-08')\n",
        "\"\"\")\n",
        "\n",
        "cursor.execute(\"\"\"\n",
        "INSERT INTO clientes (nome, idade, cpf, email, fone, cidade, uf, criado_em)\n",
        "VALUES ('Aloisio', 87, '11111111111', 'aloisio@email.com', '98765-4322', 'Porto Alegre', 'RS', '2014-06-09')\n",
        "\"\"\")\n",
        "\n",
        "cursor.execute(\"\"\"\n",
        "INSERT INTO clientes (nome, idade, cpf, email, fone, cidade, uf, criado_em)\n",
        "VALUES ('Bruna', 21, '22222222222', 'bruna@email.com', '21-98765-4323', 'Rio de Janeiro', 'RJ', '2014-06-09')\n",
        "\"\"\")\n",
        "\n",
        "cursor.execute(\"\"\"\n",
        "INSERT INTO clientes (nome, idade, cpf, email, fone, cidade, uf, criado_em)\n",
        "VALUES ('Matheus', 19, '33333333333', 'matheus@email.com', '11-98765-4324', 'Campinas', 'SP', '2014-06-08')\n",
        "\"\"\")\n",
        "\n",
        "# gravando no bd\n",
        "conn.commit()\n",
        "\n",
        "print('Dados inseridos com sucesso.')\n",
        "\n",
        "conn.close()"
      ],
      "metadata": {
        "colab": {
          "base_uri": "https://localhost:8080/"
        },
        "id": "BZ7WLpIW7K9j",
        "outputId": "da400176-7c0e-4eb9-821f-2746e80c7825"
      },
      "execution_count": null,
      "outputs": [
        {
          "output_type": "stream",
          "name": "stdout",
          "text": [
            "Dados inseridos com sucesso.\n"
          ]
        }
      ]
    },
    {
      "cell_type": "markdown",
      "source": [
        "Criando em uma forma de Lista e Permitindo uma intereção com o usuário\n",
        "\n",
        "---\n",
        "\n"
      ],
      "metadata": {
        "id": "vqwK097O8k_G"
      }
    },
    {
      "cell_type": "code",
      "source": [
        "# 04_create_data_nrecords.py\n",
        "import sqlite3\n",
        "\n",
        "conn = sqlite3.connect('clientes.db')\n",
        "cursor = conn.cursor()\n",
        "\n",
        "# criando uma lista de dados\n",
        "lista = [(\n",
        "    'Fabio', 23, '44444444444', 'fabio@email.com', '1234-5678', 'Belo Horizonte', 'MG', '2014-06-09'),\n",
        "    ('Joao', 21, '55555555555', 'joao@email.com',\n",
        "     '11-1234-5600', 'Sao Paulo', 'SP', '2014-06-09'),\n",
        "    ('Xavier', 24, '66666666666', 'xavier@email.com', '12-1234-5601', 'Campinas', 'SP', '2014-06-10')]\n",
        "\n",
        "# inserindo dados na tabela\n",
        "cursor.executemany(\"\"\"\n",
        "INSERT INTO clientes (nome, idade, cpf, email, fone, cidade, uf, criado_em)\n",
        "VALUES (?,?,?,?,?,?,?,?)\n",
        "\"\"\", lista)\n",
        "\n",
        "conn.commit()\n",
        "\n",
        "print('Dados inseridos com sucesso.')\n",
        "\n",
        "conn.close()\n"
      ],
      "metadata": {
        "colab": {
          "base_uri": "https://localhost:8080/"
        },
        "id": "2QObUFsC7Q4Z",
        "outputId": "817bbb07-a128-45e2-a954-3f4ee9f02918"
      },
      "execution_count": null,
      "outputs": [
        {
          "output_type": "stream",
          "name": "stdout",
          "text": [
            "Dados inseridos com sucesso.\n"
          ]
        }
      ]
    },
    {
      "cell_type": "markdown",
      "source": [
        "Inserindo um registro com parâmetros de entrada definido pelo usuário\n"
      ],
      "metadata": {
        "id": "1q8uA2isCtbh"
      }
    },
    {
      "cell_type": "code",
      "source": [
        "# 05_create_data_param.py\n",
        "import sqlite3\n",
        "\n",
        "conn = sqlite3.connect('clientes.db')\n",
        "cursor = conn.cursor()\n",
        "\n",
        "# solicitando os dados ao usuário\n",
        "p_nome = input('Nome: ')\n",
        "p_idade = input('Idade: ')\n",
        "p_cpf = input('CPF: ')\n",
        "p_email = input('Email: ')\n",
        "p_fone = input('Fone: ')\n",
        "p_cidade = input('Cidade: ')\n",
        "p_uf = input('UF: ')\n",
        "p_criado_em = input('Criado em (yyyy-mm-dd): ')\n",
        "\n",
        "# inserindo dados na tabela\n",
        "cursor.execute(\"\"\"\n",
        "INSERT INTO clientes (nome, idade, cpf, email, fone, cidade, uf, criado_em)\n",
        "VALUES (?,?,?,?,?,?,?,?)\n",
        "\"\"\", (p_nome, p_idade, p_cpf, p_email, p_fone, p_cidade, p_uf, p_criado_em))\n",
        "\n",
        "conn.commit()\n",
        "\n",
        "print('Dados inseridos com sucesso.')\n",
        "\n",
        "conn.close()"
      ],
      "metadata": {
        "colab": {
          "base_uri": "https://localhost:8080/"
        },
        "id": "OXq2BstA7YMT",
        "outputId": "be8c1b2d-834e-4733-867b-a911accdb06c"
      },
      "execution_count": null,
      "outputs": [
        {
          "output_type": "stream",
          "name": "stdout",
          "text": [
            "Nome: luana\n",
            "Idade: 24\n",
            "CPF: 06043243264\n",
            "Email: luuunaahhsu@gmil\n",
            "Fone: 61981015068\n",
            "Cidade: brasilia\n",
            "UF: df\n",
            "Criado em (yyyy-mm-dd): 06/06/2022\n",
            "Dados inseridos com sucesso.\n"
          ]
        }
      ]
    },
    {
      "cell_type": "markdown",
      "source": [
        "Read - Lendo os dados\n",
        "Aqui nós usamos o famoso SELECT. O método fetchall() retorna o resultado do SELECT.\n"
      ],
      "metadata": {
        "id": "g-72FY7EC94R"
      }
    },
    {
      "cell_type": "code",
      "source": [
        "import sqlite3\n",
        "\n",
        "conn = sqlite3.connect('clientes.db')\n",
        "cursor = conn.cursor()\n",
        "\n",
        "# lendo os dados\n",
        "cursor.execute(\"\"\"\n",
        "SELECT * FROM clientes;\n",
        "\"\"\")\n",
        "\n",
        "for linha in cursor.fetchall():\n",
        "    print(linha)\n",
        "\n",
        "conn.close()\n"
      ],
      "metadata": {
        "colab": {
          "base_uri": "https://localhost:8080/"
        },
        "id": "1SPEPhSc7yT7",
        "outputId": "f6911fad-1273-44f3-a948-55a4e1b734f3"
      },
      "execution_count": null,
      "outputs": [
        {
          "output_type": "stream",
          "name": "stdout",
          "text": [
            "(1, 'Regis', 35, '00000000000', 'regis@email.com', '11-1000-2014', 'Sao Paulo', 'SP', '2014-06-11')\n",
            "(2, 'Aloisio', 87, '11111111111', 'aloisio@email.com', '98765-4322', 'Porto Alegre', 'RS', '2014-06-09')\n",
            "(3, 'Bruna', 21, '22222222222', 'bruna@email.com', '21-98765-4323', 'Rio de Janeiro', 'RJ', '2014-06-09')\n",
            "(4, 'Matheus', 19, '33333333333', 'matheus@email.com', '11-98765-4324', 'Campinas', 'SP', '2014-06-08')\n",
            "(5, 'luana', 24, '06043243264', 'luuunaahhsu@gmil', '61981015068', 'brasilia', 'df', '06/06/2022')\n",
            "(6, 'Regis', 35, '00000000000', 'regis@email.com', '11-98765-4321', 'Sao Paulo', 'SP', '2014-06-08')\n",
            "(7, 'Aloisio', 87, '11111111111', 'aloisio@email.com', '98765-4322', 'Porto Alegre', 'RS', '2014-06-09')\n",
            "(9, 'Matheus', 19, '33333333333', 'matheus@email.com', '11-98765-4324', 'Campinas', 'SP', '2014-06-08')\n",
            "(10, 'Fabio', 23, '44444444444', 'fabio@email.com', '1234-5678', 'Belo Horizonte', 'MG', '2014-06-09')\n",
            "(11, 'Joao', 21, '55555555555', 'joao@email.com', '11-1234-5600', 'Sao Paulo', 'SP', '2014-06-09')\n",
            "(12, 'Xavier', 24, '66666666666', 'xavier@email.com', '12-1234-5601', 'Campinas', 'SP', '2014-06-10')\n"
          ]
        }
      ]
    },
    {
      "cell_type": "markdown",
      "source": [
        "**Update** - Alterando os dados\n",
        "Observe o uso das variáveis id_cliente onde definimos o id a ser alterado, novo_fone e novo_criado_em usados como parâmetro para alterar os dados. Neste caso, salvamos as alterações com o método commit()."
      ],
      "metadata": {
        "id": "kQP60GxpDPEy"
      }
    },
    {
      "cell_type": "code",
      "source": [
        "# 07_update_data.py\n",
        "import sqlite3\n",
        "\n",
        "conn = sqlite3.connect('clientes.db')\n",
        "cursor = conn.cursor()\n",
        "\n",
        "id_cliente = 1\n",
        "novo_fone = '11-1000-2014'\n",
        "novo_criado_em = '2014-06-11'\n",
        "\n",
        "# alterando os dados da tabela\n",
        "cursor.execute(\"\"\"\n",
        "UPDATE clientes\n",
        "SET fone = ?, criado_em = ?\n",
        "WHERE id = ?\n",
        "\"\"\", (novo_fone, novo_criado_em, id_cliente))\n",
        "\n",
        "conn.commit()\n",
        "\n",
        "print('Dados atualizados com sucesso.')\n",
        "\n",
        "conn.close()"
      ],
      "metadata": {
        "id": "zU9J7IH_DXOC",
        "colab": {
          "base_uri": "https://localhost:8080/"
        },
        "outputId": "6bd88988-e7f5-4b28-fb54-e1d979a9b05d"
      },
      "execution_count": null,
      "outputs": [
        {
          "output_type": "stream",
          "name": "stdout",
          "text": [
            "Dados atualizados com sucesso.\n"
          ]
        }
      ]
    },
    {
      "cell_type": "markdown",
      "source": [
        "Delete - Deletando os dados\n",
        "Vamos excluir um registro pelo seu id."
      ],
      "metadata": {
        "id": "Y6Go163LDa0C"
      }
    },
    {
      "cell_type": "code",
      "source": [
        "# 08_delete_data.py\n",
        "import sqlite3\n",
        "\n",
        "conn = sqlite3.connect('clientes.db')\n",
        "cursor = conn.cursor()\n",
        "\n",
        "id_cliente = 8\n",
        "\n",
        "# excluindo um registro da tabela\n",
        "cursor.execute(\"\"\"\n",
        "DELETE FROM clientes\n",
        "WHERE id = ?\n",
        "\"\"\", (id_cliente,))\n",
        "\n",
        "conn.commit()\n",
        "\n",
        "print('Registro excluido com sucesso.')\n",
        "\n",
        "conn.close()"
      ],
      "metadata": {
        "id": "T5LxivPdDb86",
        "colab": {
          "base_uri": "https://localhost:8080/"
        },
        "outputId": "6cceeca4-4744-4603-999a-254276e91689"
      },
      "execution_count": null,
      "outputs": [
        {
          "output_type": "stream",
          "name": "stdout",
          "text": [
            "Registro excluido com sucesso.\n"
          ]
        }
      ]
    },
    {
      "cell_type": "markdown",
      "source": [
        "**Adicionando uma nova coluna**\n",
        "Para inserir uma nova coluna na tabela usamos o comando SQL ALTER TABLE."
      ],
      "metadata": {
        "id": "I5GorwBBDifC"
      }
    },
    {
      "cell_type": "code",
      "source": [
        "# 09_alter_table.py\n",
        "import sqlite3\n",
        "\n",
        "conn = sqlite3.connect('clientes.db')\n",
        "cursor = conn.cursor()\n",
        "\n",
        "# adicionando uma nova coluna na tabela clientes\n",
        "cursor.execute(\"\"\"\n",
        "ALTER TABLE clientes\n",
        "ADD COLUMN bloqueado BOOLEAN;\n",
        "\"\"\")\n",
        "\n",
        "conn.commit()\n",
        "\n",
        "print('Novo campo adicionado com sucesso.')\n",
        "\n",
        "conn.close()"
      ],
      "metadata": {
        "id": "WsweRVY6Dhxr",
        "colab": {
          "base_uri": "https://localhost:8080/",
          "height": 314
        },
        "outputId": "d1ca4ba7-cb10-4116-abc2-32a6796315f8"
      },
      "execution_count": null,
      "outputs": [
        {
          "output_type": "stream",
          "name": "stderr",
          "text": [
            "ERROR:root:An unexpected error occurred while tokenizing input\n",
            "The following traceback may be corrupted or invalid\n",
            "The error message is: ('EOF in multi-line string', (1, 0))\n",
            "\n"
          ]
        },
        {
          "output_type": "error",
          "ename": "OperationalError",
          "evalue": "ignored",
          "traceback": [
            "\u001b[0;31m---------------------------------------------------------------------------\u001b[0m",
            "\u001b[0;31mOperationalError\u001b[0m                          Traceback (most recent call last)",
            "\u001b[0;32m<ipython-input-34-72a6f62fa724>\u001b[0m in \u001b[0;36m<module>\u001b[0;34m()\u001b[0m\n\u001b[1;32m      9\u001b[0m \u001b[0mALTER\u001b[0m \u001b[0mTABLE\u001b[0m \u001b[0mclientes\u001b[0m\u001b[0;34m\u001b[0m\u001b[0;34m\u001b[0m\u001b[0m\n\u001b[1;32m     10\u001b[0m \u001b[0mADD\u001b[0m \u001b[0mCOLUMN\u001b[0m \u001b[0mbloqueado\u001b[0m \u001b[0mBOOLEAN\u001b[0m\u001b[0;34m;\u001b[0m\u001b[0;34m\u001b[0m\u001b[0;34m\u001b[0m\u001b[0m\n\u001b[0;32m---> 11\u001b[0;31m \"\"\")\n\u001b[0m\u001b[1;32m     12\u001b[0m \u001b[0;34m\u001b[0m\u001b[0m\n\u001b[1;32m     13\u001b[0m \u001b[0mconn\u001b[0m\u001b[0;34m.\u001b[0m\u001b[0mcommit\u001b[0m\u001b[0;34m(\u001b[0m\u001b[0;34m)\u001b[0m\u001b[0;34m\u001b[0m\u001b[0;34m\u001b[0m\u001b[0m\n",
            "\u001b[0;31mOperationalError\u001b[0m: duplicate column name: bloqueado"
          ]
        }
      ]
    },
    {
      "cell_type": "markdown",
      "source": [
        "Deletando uma Tabela"
      ],
      "metadata": {
        "id": "aHNJ0v66DD7a"
      }
    },
    {
      "cell_type": "code",
      "source": [
        "conn = sqlite3.connect('clientes.db')\n",
        "cursor = conn.cursor()\n",
        "\n",
        "# lendo os dados\n",
        "cursor.execute(\"\"\"\n",
        "DROP TABLE clientes;\n",
        "\"\"\")\n",
        "print('Tabela DELETADA com sucesso.')\n",
        "# desconectando..."
      ],
      "metadata": {
        "colab": {
          "base_uri": "https://localhost:8080/"
        },
        "id": "TwTzXbXUAq43",
        "outputId": "c0820383-bfc3-4199-ce37-6a2549d6d4c9"
      },
      "execution_count": null,
      "outputs": [
        {
          "output_type": "stream",
          "name": "stdout",
          "text": [
            "Tabela DELETADA com sucesso.\n"
          ]
        }
      ]
    }
  ]
}